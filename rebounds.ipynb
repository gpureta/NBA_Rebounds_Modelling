{
 "cells": [
  {
   "cell_type": "markdown",
   "metadata": {},
   "source": [
    "# Predicting NBA Rebounds Using Linear Regression\n",
    "#### Gabriel Ureta \n",
    "\n",
    "<h1>Table of contents</h1>\n",
    "<ul>\n",
    "    <li><a href=\"#ref1\">Introduction </a></li>\n",
    "    <li><a href=\"#ref2\">Setting up Data </a></li>\n",
    "    <li><a href=\"#ref3\">Exploratory Analysis </a></li>\n",
    "    <li><a href=\"#ref4\">Regression</a></li>\n",
    "    <li><a href=\"#ref5\">Conclusion</a></li>\n",
    "</ul>\n",
    "\n"
   ]
  },
  {
   "cell_type": "markdown",
   "metadata": {},
   "source": [
    "## Introduction <a name=\"ref1\"></a>\n",
    "\n",
    "Rebounds are one of the most important aspects of winning basketball games. Being able to  collect offensive rebounds give your team extra chances, free throw opportunities, and frustrates the defense. Defensive rebounds are a key part of good defense in general, limiting the offense to just one shot. In this simple project, **the rebounding performance of NBA players is modeled using multiple linear regression**. Possible explanatory variables such as **Height**, **Weight**, **Age**, and **playing role** were evaluated. The questions we want to answer are:\n",
    "\n",
    "* What are the factors that affect  a player's ability to get rebounds? Can we model it?\n",
    "* Based on these factors, which players are playing better than the model? Which are underperforming?"
   ]
  },
  {
   "cell_type": "markdown",
   "metadata": {},
   "source": [
    "## Setting up Data  <a name=\"ref2\"></a>\n",
    "The stats were taken from NBA.com for players in the 2019-2020 season. Rebounding performance for the entirety of NBA history were not considered due to lack of data and possible change of performance through the years.\n",
    "  \n",
    "These are actually stats'per 100 possessions', that is, these are stats you would expect a player to make if they played the same number of possesions (100 a game). The reason for not using 'per game average' is that some players play more minutes than others. A team could have two quality rebounding centers that split minutes, and if they moved to a different team they could easily double their numbers. This could be solved by adding the \"minutes played\" as another explanatory variable, but this will also artificially increase the R-squared performance. Another reasonable way is to use 'per minute average', but basketball gameplay speed differs per team. A team that plays fast will try to score more often and therefore have more chances to get rebounds. 'Per 100 possessions' will take that into account. One problem is that players who play more minutes will fatigue more than players who play less minutes, so players who typically play less minutes will have an inflated 'per 100' stat. Some sort of fatigue factor could probably correct this, but it is assumed that fatigue is neglible. "
   ]
  },
  {
   "cell_type": "code",
   "execution_count": 1,
   "metadata": {},
   "outputs": [],
   "source": [
    "import pandas as pd\n",
    "import numpy as np"
   ]
  },
  {
   "cell_type": "code",
   "execution_count": 2,
   "metadata": {},
   "outputs": [],
   "source": [
    "#Loading data with biometrics (height, weight) and playing position.\n",
    "df1 = pd.read_html('NBA%20Players%20&%20Team%20Rosters%20_%20NBA.com.html')[0]"
   ]
  },
  {
   "cell_type": "code",
   "execution_count": 3,
   "metadata": {},
   "outputs": [
    {
     "name": "stdout",
     "output_type": "stream",
     "text": [
      "(545, 8)\n"
     ]
    },
    {
     "data": {
      "text/html": [
       "<div>\n",
       "<style scoped>\n",
       "    .dataframe tbody tr th:only-of-type {\n",
       "        vertical-align: middle;\n",
       "    }\n",
       "\n",
       "    .dataframe tbody tr th {\n",
       "        vertical-align: top;\n",
       "    }\n",
       "\n",
       "    .dataframe thead th {\n",
       "        text-align: right;\n",
       "    }\n",
       "</style>\n",
       "<table border=\"1\" class=\"dataframe\">\n",
       "  <thead>\n",
       "    <tr style=\"text-align: right;\">\n",
       "      <th></th>\n",
       "      <th>Player</th>\n",
       "      <th>Team</th>\n",
       "      <th>Number</th>\n",
       "      <th>Position</th>\n",
       "      <th>Height</th>\n",
       "      <th>Weight</th>\n",
       "      <th>Last Attended</th>\n",
       "      <th>Country</th>\n",
       "    </tr>\n",
       "  </thead>\n",
       "  <tbody>\n",
       "    <tr>\n",
       "      <th>0</th>\n",
       "      <td>PreciousAchiuwa</td>\n",
       "      <td>MIA</td>\n",
       "      <td>15.0</td>\n",
       "      <td>F</td>\n",
       "      <td>6-9</td>\n",
       "      <td>225 lbs</td>\n",
       "      <td>Memphis</td>\n",
       "      <td>Nigeria</td>\n",
       "    </tr>\n",
       "    <tr>\n",
       "      <th>1</th>\n",
       "      <td>JaylenAdams</td>\n",
       "      <td>MIL</td>\n",
       "      <td>10.0</td>\n",
       "      <td>G</td>\n",
       "      <td>6-0</td>\n",
       "      <td>225 lbs</td>\n",
       "      <td>St. Bonaventure</td>\n",
       "      <td>USA</td>\n",
       "    </tr>\n",
       "    <tr>\n",
       "      <th>2</th>\n",
       "      <td>StevenAdams</td>\n",
       "      <td>NOP</td>\n",
       "      <td>12.0</td>\n",
       "      <td>C</td>\n",
       "      <td>6-11</td>\n",
       "      <td>265 lbs</td>\n",
       "      <td>Pittsburgh</td>\n",
       "      <td>New Zealand</td>\n",
       "    </tr>\n",
       "    <tr>\n",
       "      <th>3</th>\n",
       "      <td>BamAdebayo</td>\n",
       "      <td>MIA</td>\n",
       "      <td>13.0</td>\n",
       "      <td>C-F</td>\n",
       "      <td>6-9</td>\n",
       "      <td>255 lbs</td>\n",
       "      <td>Kentucky</td>\n",
       "      <td>USA</td>\n",
       "    </tr>\n",
       "    <tr>\n",
       "      <th>4</th>\n",
       "      <td>LaMarcusAldridge</td>\n",
       "      <td>SAS</td>\n",
       "      <td>12.0</td>\n",
       "      <td>C-F</td>\n",
       "      <td>6-11</td>\n",
       "      <td>250 lbs</td>\n",
       "      <td>Texas</td>\n",
       "      <td>USA</td>\n",
       "    </tr>\n",
       "  </tbody>\n",
       "</table>\n",
       "</div>"
      ],
      "text/plain": [
       "             Player Team  Number Position Height   Weight    Last Attended  \\\n",
       "0   PreciousAchiuwa  MIA    15.0        F    6-9  225 lbs          Memphis   \n",
       "1       JaylenAdams  MIL    10.0        G    6-0  225 lbs  St. Bonaventure   \n",
       "2       StevenAdams  NOP    12.0        C   6-11  265 lbs       Pittsburgh   \n",
       "3        BamAdebayo  MIA    13.0      C-F    6-9  255 lbs         Kentucky   \n",
       "4  LaMarcusAldridge  SAS    12.0      C-F   6-11  250 lbs            Texas   \n",
       "\n",
       "       Country  \n",
       "0      Nigeria  \n",
       "1          USA  \n",
       "2  New Zealand  \n",
       "3          USA  \n",
       "4          USA  "
      ]
     },
     "execution_count": 3,
     "metadata": {},
     "output_type": "execute_result"
    }
   ],
   "source": [
    "#number of players in the dataframe\n",
    "print(df1.shape)\n",
    "df1.head()"
   ]
  },
  {
   "cell_type": "code",
   "execution_count": 4,
   "metadata": {},
   "outputs": [],
   "source": [
    "#Loading player 'per 100 possesion' stats\n",
    "df2 = pd.read_html('NBA.com_Stats%20_%20Players%20Traditional.html')[0]"
   ]
  },
  {
   "cell_type": "code",
   "execution_count": 5,
   "metadata": {},
   "outputs": [
    {
     "name": "stdout",
     "output_type": "stream",
     "text": [
      "(529, 56)\n"
     ]
    },
    {
     "data": {
      "text/html": [
       "<div>\n",
       "<style scoped>\n",
       "    .dataframe tbody tr th:only-of-type {\n",
       "        vertical-align: middle;\n",
       "    }\n",
       "\n",
       "    .dataframe tbody tr th {\n",
       "        vertical-align: top;\n",
       "    }\n",
       "\n",
       "    .dataframe thead th {\n",
       "        text-align: right;\n",
       "    }\n",
       "</style>\n",
       "<table border=\"1\" class=\"dataframe\">\n",
       "  <thead>\n",
       "    <tr style=\"text-align: right;\">\n",
       "      <th></th>\n",
       "      <th>Unnamed: 0</th>\n",
       "      <th>PLAYER</th>\n",
       "      <th>TEAM</th>\n",
       "      <th>AGE</th>\n",
       "      <th>GP</th>\n",
       "      <th>W</th>\n",
       "      <th>L</th>\n",
       "      <th>MIN</th>\n",
       "      <th>PTS</th>\n",
       "      <th>FGM</th>\n",
       "      <th>...</th>\n",
       "      <th>REB RANK</th>\n",
       "      <th>AST RANK</th>\n",
       "      <th>TOV RANK</th>\n",
       "      <th>STL RANK</th>\n",
       "      <th>BLK RANK</th>\n",
       "      <th>PF RANK</th>\n",
       "      <th>FP RANK</th>\n",
       "      <th>DD2 RANK</th>\n",
       "      <th>TD3 RANK</th>\n",
       "      <th>+/- RANK</th>\n",
       "    </tr>\n",
       "  </thead>\n",
       "  <tbody>\n",
       "    <tr>\n",
       "      <th>0</th>\n",
       "      <td>1</td>\n",
       "      <td>James Harden</td>\n",
       "      <td>HOU</td>\n",
       "      <td>30</td>\n",
       "      <td>68</td>\n",
       "      <td>43</td>\n",
       "      <td>25</td>\n",
       "      <td>46.7</td>\n",
       "      <td>43.9</td>\n",
       "      <td>12.6</td>\n",
       "      <td>...</td>\n",
       "      <td>NaN</td>\n",
       "      <td>NaN</td>\n",
       "      <td>NaN</td>\n",
       "      <td>NaN</td>\n",
       "      <td>NaN</td>\n",
       "      <td>NaN</td>\n",
       "      <td>NaN</td>\n",
       "      <td>NaN</td>\n",
       "      <td>NaN</td>\n",
       "      <td>NaN</td>\n",
       "    </tr>\n",
       "    <tr>\n",
       "      <th>1</th>\n",
       "      <td>2</td>\n",
       "      <td>Giannis Antetokounmpo</td>\n",
       "      <td>MIL</td>\n",
       "      <td>25</td>\n",
       "      <td>63</td>\n",
       "      <td>51</td>\n",
       "      <td>12</td>\n",
       "      <td>44.6</td>\n",
       "      <td>43.2</td>\n",
       "      <td>15.9</td>\n",
       "      <td>...</td>\n",
       "      <td>NaN</td>\n",
       "      <td>NaN</td>\n",
       "      <td>NaN</td>\n",
       "      <td>NaN</td>\n",
       "      <td>NaN</td>\n",
       "      <td>NaN</td>\n",
       "      <td>NaN</td>\n",
       "      <td>NaN</td>\n",
       "      <td>NaN</td>\n",
       "      <td>NaN</td>\n",
       "    </tr>\n",
       "    <tr>\n",
       "      <th>2</th>\n",
       "      <td>3</td>\n",
       "      <td>Dusty Hannahs</td>\n",
       "      <td>MEM</td>\n",
       "      <td>26</td>\n",
       "      <td>2</td>\n",
       "      <td>0</td>\n",
       "      <td>2</td>\n",
       "      <td>46.3</td>\n",
       "      <td>41.4</td>\n",
       "      <td>13.8</td>\n",
       "      <td>...</td>\n",
       "      <td>NaN</td>\n",
       "      <td>NaN</td>\n",
       "      <td>NaN</td>\n",
       "      <td>NaN</td>\n",
       "      <td>NaN</td>\n",
       "      <td>NaN</td>\n",
       "      <td>NaN</td>\n",
       "      <td>NaN</td>\n",
       "      <td>NaN</td>\n",
       "      <td>NaN</td>\n",
       "    </tr>\n",
       "    <tr>\n",
       "      <th>3</th>\n",
       "      <td>4</td>\n",
       "      <td>Luka Doncic</td>\n",
       "      <td>DAL</td>\n",
       "      <td>21</td>\n",
       "      <td>61</td>\n",
       "      <td>36</td>\n",
       "      <td>25</td>\n",
       "      <td>47.3</td>\n",
       "      <td>40.6</td>\n",
       "      <td>13.4</td>\n",
       "      <td>...</td>\n",
       "      <td>NaN</td>\n",
       "      <td>NaN</td>\n",
       "      <td>NaN</td>\n",
       "      <td>NaN</td>\n",
       "      <td>NaN</td>\n",
       "      <td>NaN</td>\n",
       "      <td>NaN</td>\n",
       "      <td>NaN</td>\n",
       "      <td>NaN</td>\n",
       "      <td>NaN</td>\n",
       "    </tr>\n",
       "    <tr>\n",
       "      <th>4</th>\n",
       "      <td>5</td>\n",
       "      <td>Kawhi Leonard</td>\n",
       "      <td>LAC</td>\n",
       "      <td>29</td>\n",
       "      <td>57</td>\n",
       "      <td>41</td>\n",
       "      <td>16</td>\n",
       "      <td>47.7</td>\n",
       "      <td>39.8</td>\n",
       "      <td>13.7</td>\n",
       "      <td>...</td>\n",
       "      <td>NaN</td>\n",
       "      <td>NaN</td>\n",
       "      <td>NaN</td>\n",
       "      <td>NaN</td>\n",
       "      <td>NaN</td>\n",
       "      <td>NaN</td>\n",
       "      <td>NaN</td>\n",
       "      <td>NaN</td>\n",
       "      <td>NaN</td>\n",
       "      <td>NaN</td>\n",
       "    </tr>\n",
       "  </tbody>\n",
       "</table>\n",
       "<p>5 rows × 56 columns</p>\n",
       "</div>"
      ],
      "text/plain": [
       "   Unnamed: 0                 PLAYER TEAM  AGE  GP   W   L   MIN   PTS   FGM  \\\n",
       "0           1           James Harden  HOU   30  68  43  25  46.7  43.9  12.6   \n",
       "1           2  Giannis Antetokounmpo  MIL   25  63  51  12  44.6  43.2  15.9   \n",
       "2           3          Dusty Hannahs  MEM   26   2   0   2  46.3  41.4  13.8   \n",
       "3           4            Luka Doncic  DAL   21  61  36  25  47.3  40.6  13.4   \n",
       "4           5          Kawhi Leonard  LAC   29  57  41  16  47.7  39.8  13.7   \n",
       "\n",
       "     ...     REB RANK  AST RANK  TOV RANK  STL RANK  BLK RANK  PF RANK  \\\n",
       "0    ...          NaN       NaN       NaN       NaN       NaN      NaN   \n",
       "1    ...          NaN       NaN       NaN       NaN       NaN      NaN   \n",
       "2    ...          NaN       NaN       NaN       NaN       NaN      NaN   \n",
       "3    ...          NaN       NaN       NaN       NaN       NaN      NaN   \n",
       "4    ...          NaN       NaN       NaN       NaN       NaN      NaN   \n",
       "\n",
       "   FP RANK  DD2 RANK  TD3 RANK  +/- RANK  \n",
       "0      NaN       NaN       NaN       NaN  \n",
       "1      NaN       NaN       NaN       NaN  \n",
       "2      NaN       NaN       NaN       NaN  \n",
       "3      NaN       NaN       NaN       NaN  \n",
       "4      NaN       NaN       NaN       NaN  \n",
       "\n",
       "[5 rows x 56 columns]"
      ]
     },
     "execution_count": 5,
     "metadata": {},
     "output_type": "execute_result"
    }
   ],
   "source": [
    "#number of players in the dataframe\n",
    "print(df2.shape)\n",
    "df2.head()"
   ]
  },
  {
   "cell_type": "code",
   "execution_count": 6,
   "metadata": {
    "scrolled": true
   },
   "outputs": [
    {
     "data": {
      "text/plain": [
       "Index(['Unnamed: 0', 'PLAYER', 'TEAM', 'AGE', 'GP', 'W', 'L', 'MIN', 'PTS',\n",
       "       'FGM', 'FGA', 'FG%', '3PM', '3PA', '3P%', 'FTM', 'FTA', 'FT%', 'OREB',\n",
       "       'DREB', 'REB', 'AST', 'TOV', 'STL', 'BLK', 'PF', 'FP', 'DD2', 'TD3',\n",
       "       '+/-', 'GP RANK', 'W RANK', 'L RANK', 'MIN RANK', 'PTS RANK',\n",
       "       'FGM RANK', 'FGA RANK', 'FG% RANK', '3PM RANK', '3PA RANK', '3P% RANK',\n",
       "       'FTM RANK', 'FTA RANK', 'FT% RANK', 'OREB RANK', 'DREB RANK',\n",
       "       'REB RANK', 'AST RANK', 'TOV RANK', 'STL RANK', 'BLK RANK', 'PF RANK',\n",
       "       'FP RANK', 'DD2 RANK', 'TD3 RANK', '+/- RANK'],\n",
       "      dtype='object')"
      ]
     },
     "execution_count": 6,
     "metadata": {},
     "output_type": "execute_result"
    }
   ],
   "source": [
    "#list of statistics\n",
    "df2.columns"
   ]
  },
  {
   "cell_type": "markdown",
   "metadata": {},
   "source": [
    "Checking for duplicates:"
   ]
  },
  {
   "cell_type": "code",
   "execution_count": 7,
   "metadata": {},
   "outputs": [
    {
     "data": {
      "text/plain": [
       "True"
      ]
     },
     "execution_count": 7,
     "metadata": {},
     "output_type": "execute_result"
    }
   ],
   "source": [
    "pd.Series(df1['Player']).is_unique"
   ]
  },
  {
   "cell_type": "code",
   "execution_count": 8,
   "metadata": {},
   "outputs": [
    {
     "data": {
      "text/plain": [
       "True"
      ]
     },
     "execution_count": 8,
     "metadata": {},
     "output_type": "execute_result"
    }
   ],
   "source": [
    "pd.Series(df2['PLAYER']).is_unique"
   ]
  },
  {
   "cell_type": "markdown",
   "metadata": {},
   "source": [
    "Since there are no spaces in between the first and last names of df1, the spaces in df2 will also be removed for merging:"
   ]
  },
  {
   "cell_type": "code",
   "execution_count": 9,
   "metadata": {},
   "outputs": [],
   "source": [
    "df2['PLAYER'] = df2['PLAYER'].str.replace(' ','')\n",
    "df1['PLAYER'] = df1['Player'].str.replace(' ','')"
   ]
  },
  {
   "cell_type": "code",
   "execution_count": 10,
   "metadata": {},
   "outputs": [
    {
     "name": "stdout",
     "output_type": "stream",
     "text": [
      "(441, 65)\n"
     ]
    },
    {
     "data": {
      "text/html": [
       "<div>\n",
       "<style scoped>\n",
       "    .dataframe tbody tr th:only-of-type {\n",
       "        vertical-align: middle;\n",
       "    }\n",
       "\n",
       "    .dataframe tbody tr th {\n",
       "        vertical-align: top;\n",
       "    }\n",
       "\n",
       "    .dataframe thead th {\n",
       "        text-align: right;\n",
       "    }\n",
       "</style>\n",
       "<table border=\"1\" class=\"dataframe\">\n",
       "  <thead>\n",
       "    <tr style=\"text-align: right;\">\n",
       "      <th></th>\n",
       "      <th>Player</th>\n",
       "      <th>Team</th>\n",
       "      <th>Number</th>\n",
       "      <th>Position</th>\n",
       "      <th>Height</th>\n",
       "      <th>Weight</th>\n",
       "      <th>Last Attended</th>\n",
       "      <th>Country</th>\n",
       "      <th>PLAYER_x</th>\n",
       "      <th>Unnamed: 0</th>\n",
       "      <th>...</th>\n",
       "      <th>REB RANK</th>\n",
       "      <th>AST RANK</th>\n",
       "      <th>TOV RANK</th>\n",
       "      <th>STL RANK</th>\n",
       "      <th>BLK RANK</th>\n",
       "      <th>PF RANK</th>\n",
       "      <th>FP RANK</th>\n",
       "      <th>DD2 RANK</th>\n",
       "      <th>TD3 RANK</th>\n",
       "      <th>+/- RANK</th>\n",
       "    </tr>\n",
       "  </thead>\n",
       "  <tbody>\n",
       "    <tr>\n",
       "      <th>0</th>\n",
       "      <td>StevenAdams</td>\n",
       "      <td>NOP</td>\n",
       "      <td>12.0</td>\n",
       "      <td>C</td>\n",
       "      <td>6-11</td>\n",
       "      <td>265 lbs</td>\n",
       "      <td>Pittsburgh</td>\n",
       "      <td>New Zealand</td>\n",
       "      <td>StevenAdams</td>\n",
       "      <td>223</td>\n",
       "      <td>...</td>\n",
       "      <td>NaN</td>\n",
       "      <td>NaN</td>\n",
       "      <td>NaN</td>\n",
       "      <td>NaN</td>\n",
       "      <td>NaN</td>\n",
       "      <td>NaN</td>\n",
       "      <td>NaN</td>\n",
       "      <td>NaN</td>\n",
       "      <td>NaN</td>\n",
       "      <td>NaN</td>\n",
       "    </tr>\n",
       "    <tr>\n",
       "      <th>1</th>\n",
       "      <td>BamAdebayo</td>\n",
       "      <td>MIA</td>\n",
       "      <td>13.0</td>\n",
       "      <td>C-F</td>\n",
       "      <td>6-9</td>\n",
       "      <td>255 lbs</td>\n",
       "      <td>Kentucky</td>\n",
       "      <td>USA</td>\n",
       "      <td>BamAdebayo</td>\n",
       "      <td>135</td>\n",
       "      <td>...</td>\n",
       "      <td>NaN</td>\n",
       "      <td>NaN</td>\n",
       "      <td>NaN</td>\n",
       "      <td>NaN</td>\n",
       "      <td>NaN</td>\n",
       "      <td>NaN</td>\n",
       "      <td>NaN</td>\n",
       "      <td>NaN</td>\n",
       "      <td>NaN</td>\n",
       "      <td>NaN</td>\n",
       "    </tr>\n",
       "    <tr>\n",
       "      <th>2</th>\n",
       "      <td>LaMarcusAldridge</td>\n",
       "      <td>SAS</td>\n",
       "      <td>12.0</td>\n",
       "      <td>C-F</td>\n",
       "      <td>6-11</td>\n",
       "      <td>250 lbs</td>\n",
       "      <td>Texas</td>\n",
       "      <td>USA</td>\n",
       "      <td>LaMarcusAldridge</td>\n",
       "      <td>64</td>\n",
       "      <td>...</td>\n",
       "      <td>NaN</td>\n",
       "      <td>NaN</td>\n",
       "      <td>NaN</td>\n",
       "      <td>NaN</td>\n",
       "      <td>NaN</td>\n",
       "      <td>NaN</td>\n",
       "      <td>NaN</td>\n",
       "      <td>NaN</td>\n",
       "      <td>NaN</td>\n",
       "      <td>NaN</td>\n",
       "    </tr>\n",
       "    <tr>\n",
       "      <th>3</th>\n",
       "      <td>KyleAlexander</td>\n",
       "      <td>MIA</td>\n",
       "      <td>17.0</td>\n",
       "      <td>F-C</td>\n",
       "      <td>6-10</td>\n",
       "      <td>216 lbs</td>\n",
       "      <td>Tennessee</td>\n",
       "      <td>Canada</td>\n",
       "      <td>KyleAlexander</td>\n",
       "      <td>519</td>\n",
       "      <td>...</td>\n",
       "      <td>NaN</td>\n",
       "      <td>NaN</td>\n",
       "      <td>NaN</td>\n",
       "      <td>NaN</td>\n",
       "      <td>NaN</td>\n",
       "      <td>NaN</td>\n",
       "      <td>NaN</td>\n",
       "      <td>NaN</td>\n",
       "      <td>NaN</td>\n",
       "      <td>NaN</td>\n",
       "    </tr>\n",
       "    <tr>\n",
       "      <th>4</th>\n",
       "      <td>NickeilAlexander-Walker</td>\n",
       "      <td>NOP</td>\n",
       "      <td>0.0</td>\n",
       "      <td>G</td>\n",
       "      <td>6-5</td>\n",
       "      <td>205 lbs</td>\n",
       "      <td>Virginia Tech</td>\n",
       "      <td>Canada</td>\n",
       "      <td>NickeilAlexander-Walker</td>\n",
       "      <td>182</td>\n",
       "      <td>...</td>\n",
       "      <td>NaN</td>\n",
       "      <td>NaN</td>\n",
       "      <td>NaN</td>\n",
       "      <td>NaN</td>\n",
       "      <td>NaN</td>\n",
       "      <td>NaN</td>\n",
       "      <td>NaN</td>\n",
       "      <td>NaN</td>\n",
       "      <td>NaN</td>\n",
       "      <td>NaN</td>\n",
       "    </tr>\n",
       "  </tbody>\n",
       "</table>\n",
       "<p>5 rows × 65 columns</p>\n",
       "</div>"
      ],
      "text/plain": [
       "                    Player Team  Number Position Height   Weight  \\\n",
       "0              StevenAdams  NOP    12.0        C   6-11  265 lbs   \n",
       "1               BamAdebayo  MIA    13.0      C-F    6-9  255 lbs   \n",
       "2         LaMarcusAldridge  SAS    12.0      C-F   6-11  250 lbs   \n",
       "3            KyleAlexander  MIA    17.0      F-C   6-10  216 lbs   \n",
       "4  NickeilAlexander-Walker  NOP     0.0        G    6-5  205 lbs   \n",
       "\n",
       "   Last Attended      Country                 PLAYER_x  Unnamed: 0    ...     \\\n",
       "0     Pittsburgh  New Zealand              StevenAdams         223    ...      \n",
       "1       Kentucky          USA               BamAdebayo         135    ...      \n",
       "2          Texas          USA         LaMarcusAldridge          64    ...      \n",
       "3      Tennessee       Canada            KyleAlexander         519    ...      \n",
       "4  Virginia Tech       Canada  NickeilAlexander-Walker         182    ...      \n",
       "\n",
       "  REB RANK AST RANK  TOV RANK  STL RANK  BLK RANK  PF RANK  FP RANK  DD2 RANK  \\\n",
       "0      NaN      NaN       NaN       NaN       NaN      NaN      NaN       NaN   \n",
       "1      NaN      NaN       NaN       NaN       NaN      NaN      NaN       NaN   \n",
       "2      NaN      NaN       NaN       NaN       NaN      NaN      NaN       NaN   \n",
       "3      NaN      NaN       NaN       NaN       NaN      NaN      NaN       NaN   \n",
       "4      NaN      NaN       NaN       NaN       NaN      NaN      NaN       NaN   \n",
       "\n",
       "   TD3 RANK  +/- RANK  \n",
       "0       NaN       NaN  \n",
       "1       NaN       NaN  \n",
       "2       NaN       NaN  \n",
       "3       NaN       NaN  \n",
       "4       NaN       NaN  \n",
       "\n",
       "[5 rows x 65 columns]"
      ]
     },
     "execution_count": 10,
     "metadata": {},
     "output_type": "execute_result"
    }
   ],
   "source": [
    "df3 = df1.merge(df2, left_on='Player', right_on='PLAYER')\n",
    "print(df3.shape)\n",
    "df3.head()"
   ]
  },
  {
   "cell_type": "markdown",
   "metadata": {},
   "source": [
    "A few players were removed due to having null values during the merge. This is okay, since these were fringe players without statistics or biometrics."
   ]
  },
  {
   "cell_type": "code",
   "execution_count": 11,
   "metadata": {},
   "outputs": [
    {
     "data": {
      "text/plain": [
       "Index(['Player', 'Team', 'Number', 'Position', 'Height', 'Weight',\n",
       "       'Last Attended', 'Country', 'PLAYER_x', 'Unnamed: 0', 'PLAYER_y',\n",
       "       'TEAM', 'AGE', 'GP', 'W', 'L', 'MIN', 'PTS', 'FGM', 'FGA', 'FG%', '3PM',\n",
       "       '3PA', '3P%', 'FTM', 'FTA', 'FT%', 'OREB', 'DREB', 'REB', 'AST', 'TOV',\n",
       "       'STL', 'BLK', 'PF', 'FP', 'DD2', 'TD3', '+/-', 'GP RANK', 'W RANK',\n",
       "       'L RANK', 'MIN RANK', 'PTS RANK', 'FGM RANK', 'FGA RANK', 'FG% RANK',\n",
       "       '3PM RANK', '3PA RANK', '3P% RANK', 'FTM RANK', 'FTA RANK', 'FT% RANK',\n",
       "       'OREB RANK', 'DREB RANK', 'REB RANK', 'AST RANK', 'TOV RANK',\n",
       "       'STL RANK', 'BLK RANK', 'PF RANK', 'FP RANK', 'DD2 RANK', 'TD3 RANK',\n",
       "       '+/- RANK'],\n",
       "      dtype='object')"
      ]
     },
     "execution_count": 11,
     "metadata": {},
     "output_type": "execute_result"
    }
   ],
   "source": [
    "#Checking column names in new combined dataframe\n",
    "df3.columns"
   ]
  },
  {
   "cell_type": "markdown",
   "metadata": {},
   "source": [
    "Only players that played at least 10 games will be considered to remove outliers. \n",
    "Removing players with less than 10 games:"
   ]
  },
  {
   "cell_type": "code",
   "execution_count": 12,
   "metadata": {},
   "outputs": [],
   "source": [
    "df3 = df3[df3['GP'] >=10]"
   ]
  },
  {
   "cell_type": "code",
   "execution_count": 13,
   "metadata": {},
   "outputs": [
    {
     "name": "stdout",
     "output_type": "stream",
     "text": [
      "(400, 65)\n"
     ]
    },
    {
     "data": {
      "text/plain": [
       "array([63, 72, 53, 47, 38, 70, 18, 10, 67, 20, 58, 69, 57, 39, 62, 29, 56,\n",
       "       22, 42, 68, 61, 55, 43, 54, 51, 48, 66, 49, 73, 65, 19, 17, 52, 46,\n",
       "       30, 14, 24, 45, 64, 26, 35, 28, 59, 71, 15, 33, 11, 41, 36, 37, 50,\n",
       "       13, 44, 34, 31, 60, 21, 32, 25, 12, 74, 23, 16, 40, 27],\n",
       "      dtype=int64)"
      ]
     },
     "execution_count": 13,
     "metadata": {},
     "output_type": "execute_result"
    }
   ],
   "source": [
    "#Checking number of players\n",
    "print(df3.shape)\n",
    "#Checking if at least 10 games were played\n",
    "df3['GP'].unique()\n"
   ]
  },
  {
   "cell_type": "markdown",
   "metadata": {},
   "source": [
    "The player heights are listed in feet and inches (e.g. \"6-1\").   \n",
    "Converting player heights from string to float (inches):"
   ]
  },
  {
   "cell_type": "code",
   "execution_count": 14,
   "metadata": {},
   "outputs": [
    {
     "data": {
      "text/plain": [
       "dtype('O')"
      ]
     },
     "execution_count": 14,
     "metadata": {},
     "output_type": "execute_result"
    }
   ],
   "source": [
    "df3['Height'].dtypes"
   ]
  },
  {
   "cell_type": "code",
   "execution_count": 15,
   "metadata": {},
   "outputs": [],
   "source": [
    "#function for converting height to inches:\n",
    "def parse_ht(ht):\n",
    "    # format: \"6-0\"\n",
    "    ht_ = ht.split(\"-\")\n",
    "    ft_ = float(ht_[0])\n",
    "    in_ = float(ht_[1].replace(\"\\\"\",\"\"))\n",
    "    return (12*ft_) + in_\n"
   ]
  },
  {
   "cell_type": "code",
   "execution_count": 16,
   "metadata": {},
   "outputs": [
    {
     "name": "stdout",
     "output_type": "stream",
     "text": [
      "69.0\n"
     ]
    }
   ],
   "source": [
    "#check function\n",
    "print(parse_ht(\"5-9\"))"
   ]
  },
  {
   "cell_type": "code",
   "execution_count": 17,
   "metadata": {},
   "outputs": [
    {
     "data": {
      "text/plain": [
       "0    83.0\n",
       "1    81.0\n",
       "2    83.0\n",
       "4    77.0\n",
       "5    76.0\n",
       "Name: Height, dtype: float64"
      ]
     },
     "execution_count": 17,
     "metadata": {},
     "output_type": "execute_result"
    }
   ],
   "source": [
    "#applying function to 'Height' column\n",
    "df3['Height'] = df3['Height'].apply(parse_ht)\n",
    "df3['Height'].head()"
   ]
  },
  {
   "cell_type": "markdown",
   "metadata": {},
   "source": [
    "Likewise, the weight function was also a string with units  (e.g. \"155 lbs\").  \n",
    "Removing 'lbs' from the Weight column:"
   ]
  },
  {
   "cell_type": "code",
   "execution_count": 18,
   "metadata": {},
   "outputs": [],
   "source": [
    "#function to remove \"lbs\" and convert to float\n",
    "def parse_wt(wt):\n",
    "    # format: \"155 lbs\"\n",
    "    wt_ = wt.split(\" \")\n",
    "    w = float(wt_[0])\n",
    "    return (w)"
   ]
  },
  {
   "cell_type": "code",
   "execution_count": 19,
   "metadata": {},
   "outputs": [
    {
     "name": "stdout",
     "output_type": "stream",
     "text": [
      "155.0\n"
     ]
    }
   ],
   "source": [
    "#check function\n",
    "print(parse_wt(\"155 lbs\"))"
   ]
  },
  {
   "cell_type": "code",
   "execution_count": 20,
   "metadata": {},
   "outputs": [
    {
     "data": {
      "text/plain": [
       "0    265.0\n",
       "1    255.0\n",
       "2    250.0\n",
       "4    205.0\n",
       "5    198.0\n",
       "Name: Weight, dtype: float64"
      ]
     },
     "execution_count": 20,
     "metadata": {},
     "output_type": "execute_result"
    }
   ],
   "source": [
    "#applying function\n",
    "df3['Weight'] = df3['Weight'].apply(parse_wt)\n",
    "df3['Weight'].head()"
   ]
  },
  {
   "cell_type": "markdown",
   "metadata": {},
   "source": [
    "## Exploratory Analysis  <a name=\"ref3\"></a>  \n",
    "First, the correlation between the explanatory variables (height, weight, age, playing role) with the explained variables (total rebounds) will have to be determined. If there is a linear correlation wherein the increase of one variable corresponds to an increase in another, then it can be used for regression. Otherwise, other non-linear relationships can be investigated.\n"
   ]
  },
  {
   "cell_type": "code",
   "execution_count": 21,
   "metadata": {},
   "outputs": [],
   "source": [
    "#importing libraries for metrics and visualization \n",
    "from scipy import stats \n",
    "import seaborn as sns\n",
    "import matplotlib.pyplot as plt"
   ]
  },
  {
   "cell_type": "markdown",
   "metadata": {},
   "source": [
    "#### Height vs Rebounds"
   ]
  },
  {
   "cell_type": "markdown",
   "metadata": {},
   "source": [
    "Height is the most obvious factor that can affect rebounds. The taller the player, the more likely he will get rebounds.  \n",
    "Correlation between height and rebounds:"
   ]
  },
  {
   "cell_type": "code",
   "execution_count": 22,
   "metadata": {},
   "outputs": [
    {
     "name": "stdout",
     "output_type": "stream",
     "text": [
      "Correlation Coefficient is 0.7150837965516195\n",
      "P-value is 7.208308140460025e-64\n"
     ]
    }
   ],
   "source": [
    "corr, p = stats.pearsonr(df3['Height'],df3['REB'])\n",
    "print('Correlation Coefficient is', corr)\n",
    "print('P-value is', p)"
   ]
  },
  {
   "cell_type": "code",
   "execution_count": 23,
   "metadata": {},
   "outputs": [
    {
     "name": "stderr",
     "output_type": "stream",
     "text": [
      "C:\\Users\\pc user\\Anaconda3\\lib\\site-packages\\scipy\\stats\\stats.py:1713: FutureWarning: Using a non-tuple sequence for multidimensional indexing is deprecated; use `arr[tuple(seq)]` instead of `arr[seq]`. In the future this will be interpreted as an array index, `arr[np.array(seq)]`, which will result either in an error or a different result.\n",
      "  return np.add.reduce(sorted[indexer] * weights, axis=axis) / sumval\n"
     ]
    },
    {
     "data": {
      "text/plain": [
       "<matplotlib.axes._subplots.AxesSubplot at 0x18956459ba8>"
      ]
     },
     "execution_count": 23,
     "metadata": {},
     "output_type": "execute_result"
    },
    {
     "data": {
      "image/png": "[encoded data removed]",
      "text/plain": [
       "<Figure size 432x288 with 1 Axes>"
      ]
     },
     "metadata": {
      "needs_background": "light"
     },
     "output_type": "display_data"
    }
   ],
   "source": [
    "#scatter plot of height vs rebounds\n",
    "sns.regplot(x = df3['Height'], y = df3['REB'])"
   ]
  },
  {
   "cell_type": "markdown",
   "metadata": {},
   "source": [
    "From the plot, it can be assumed that a logarithmic/sigmoidal or polynomial function can also fit the graph. However, the linear model looks like a good enough fit and wont be that far from a non-linear function."
   ]
  },
  {
   "cell_type": "markdown",
   "metadata": {},
   "source": [
    "#### Weight vs Rebounds"
   ]
  },
  {
   "cell_type": "markdown",
   "metadata": {},
   "source": [
    "Weight should increase the player's ability to \"box out\". However, weight will also increase with height, so this will increase the inflation of regression. This multicollinearity should be kept in mind.  \n",
    "Correlation between weight and rebounds:"
   ]
  },
  {
   "cell_type": "code",
   "execution_count": 24,
   "metadata": {},
   "outputs": [
    {
     "name": "stdout",
     "output_type": "stream",
     "text": [
      "Correlation Coefficient is 0.6956247148409095\n",
      "P-value is 3.9199981638917293e-59\n"
     ]
    }
   ],
   "source": [
    "corr, p = stats.pearsonr(df3['Weight'],df3['REB'])\n",
    "print('Correlation Coefficient is', corr)\n",
    "print('P-value is', p)"
   ]
  },
  {
   "cell_type": "code",
   "execution_count": 25,
   "metadata": {},
   "outputs": [
    {
     "data": {
      "text/plain": [
       "<matplotlib.axes._subplots.AxesSubplot at 0x18956ca3e80>"
      ]
     },
     "execution_count": 25,
     "metadata": {},
     "output_type": "execute_result"
    },
    {
     "data": {
      "image/png": "[encoded data removed]",
      "text/plain": [
       "<Figure size 432x288 with 1 Axes>"
      ]
     },
     "metadata": {
      "needs_background": "light"
     },
     "output_type": "display_data"
    }
   ],
   "source": [
    "#scatter plot of weight vs rebounds\n",
    "sns.regplot(x = df3['Weight'], y = df3['REB'])"
   ]
  },
  {
   "cell_type": "markdown",
   "metadata": {},
   "source": [
    "Like Height vs Rebounds, it can be assumed that a logarithmic/sigmoidal or polynomial function can also fit the WEight vs Rebounds graph. However, the linear model looks like a good enough fit and wont be that far from a non-linear function."
   ]
  },
  {
   "cell_type": "markdown",
   "metadata": {},
   "source": [
    "#### 3PA vs Rebounds"
   ]
  },
  {
   "cell_type": "markdown",
   "metadata": {},
   "source": [
    "If the player is a 3-point shooter, then it is more likely that the player will have less rebounds due to being naturally positioned farther from the ring. The amount of 3 pointers attempted should give a negative correlation.\n",
    "\n",
    "Correlation between 3 pointers attempted and rebounds:"
   ]
  },
  {
   "cell_type": "code",
   "execution_count": 26,
   "metadata": {},
   "outputs": [
    {
     "name": "stdout",
     "output_type": "stream",
     "text": [
      "Correlation Coefficient is -0.5431707497449159\n",
      "P-value is 4.463153974530817e-32\n"
     ]
    }
   ],
   "source": [
    "corr, p = stats.pearsonr(df3['3PA'],df3['REB'])\n",
    "print('Correlation Coefficient is', corr)\n",
    "print('P-value is', p)"
   ]
  },
  {
   "cell_type": "markdown",
   "metadata": {},
   "source": [
    "3 pointers attempted should only affect offensive rebounds since they are only taking 3 pointers during offensive possession. 3PA should only have a small impact on defensive rebounds.  \n",
    "Correlations of number of 3 point attempts to offensive (OREB) and defensive (DREB) rebounds:"
   ]
  },
  {
   "cell_type": "code",
   "execution_count": 27,
   "metadata": {},
   "outputs": [
    {
     "name": "stdout",
     "output_type": "stream",
     "text": [
      "Correlation Coefficient is -0.6801887919784204\n",
      "P-value is 1.2244613950859554e-55\n"
     ]
    }
   ],
   "source": [
    "#offensive rebounds\n",
    "corr, p = stats.pearsonr(df3['3PA'],df3['OREB'])\n",
    "print('Correlation Coefficient is', corr)\n",
    "print('P-value is', p)"
   ]
  },
  {
   "cell_type": "code",
   "execution_count": 28,
   "metadata": {},
   "outputs": [
    {
     "name": "stdout",
     "output_type": "stream",
     "text": [
      "Correlation Coefficient is -0.389404979983233\n",
      "P-value is 6.212802064351255e-16\n"
     ]
    }
   ],
   "source": [
    "#defensive rebounds\n",
    "corr, p = stats.pearsonr(df3['3PA'],df3['DREB'])\n",
    "print('Correlation Coefficient is', corr)\n",
    "print('P-value is', p)"
   ]
  },
  {
   "cell_type": "markdown",
   "metadata": {},
   "source": [
    "It is clear that 3 point attempts affect the offensive rebounds more, but since it also affects the defensive rebounds significantly, it will be included as an explanatory variable for total rebounds"
   ]
  },
  {
   "cell_type": "code",
   "execution_count": 29,
   "metadata": {},
   "outputs": [
    {
     "data": {
      "text/plain": [
       "<matplotlib.axes._subplots.AxesSubplot at 0x18956d25be0>"
      ]
     },
     "execution_count": 29,
     "metadata": {},
     "output_type": "execute_result"
    },
    {
     "data": {
      "image/png": "[encoded data removed]",
      "text/plain": [
       "<Figure size 432x288 with 1 Axes>"
      ]
     },
     "metadata": {
      "needs_background": "light"
     },
     "output_type": "display_data"
    }
   ],
   "source": [
    "#scatter plot of 3PA vs rebounds\n",
    "sns.regplot(x = df3['3PA'], y = df3['REB'])"
   ]
  },
  {
   "cell_type": "markdown",
   "metadata": {},
   "source": [
    "From looking at the plot, it is clear that there is a higher count for rebounds at lower 3PA than the linear model. A look at the residual plot will determine if a non-linear model would be better."
   ]
  },
  {
   "cell_type": "code",
   "execution_count": 30,
   "metadata": {},
   "outputs": [
    {
     "data": {
      "text/plain": [
       "<matplotlib.axes._subplots.AxesSubplot at 0x18956cfa2b0>"
      ]
     },
     "execution_count": 30,
     "metadata": {},
     "output_type": "execute_result"
    },
    {
     "data": {
      "image/png": "[encoded data removed]",
      "text/plain": [
       "<Figure size 432x288 with 1 Axes>"
      ]
     },
     "metadata": {
      "needs_background": "light"
     },
     "output_type": "display_data"
    }
   ],
   "source": [
    "#residual plot of 3PA vs rebounds\n",
    "sns.residplot(x = df3['3PA'], y = df3['REB'])"
   ]
  },
  {
   "cell_type": "markdown",
   "metadata": {},
   "source": [
    "#### Curve fitting and linearization of 3PA\n",
    "The trend from the scatter and residual plots show a non-linear relationship. From an initial look at the plot, a steep inversed sigmoidal function could be a good approximation, since logically it should have a steep decrease, and then a slow decrease at the end. The equation is a sigmoidal/logistic function subtracted from a constant alpha_1:\n",
    "\n",
    "$$ \\hat{Y} = \\alpha_1 -\\alpha_2 (\\frac1{1+e^{\\beta_1(X-\\beta_2)}})$$\n",
    "\n",
    "$\\beta_1$: Controls the curve's steepness,\n",
    "\n",
    "$\\beta_2$: Slides the curve on the x-axis,\n",
    "\n",
    "$\\alpha_1$: The equation is inversed by substracting from this constant,\n",
    "\n",
    "$\\alpha_2$: Adjusts the size of the sigmoidal/logistic function."
   ]
  },
  {
   "cell_type": "code",
   "execution_count": 31,
   "metadata": {},
   "outputs": [],
   "source": [
    "#function for the sigmoid\n",
    "def sigmoid(x, alpha_1, alpha_2, Beta_1, Beta_2):\n",
    "     y = alpha_1 - alpha_2*(1 / (1 + np.exp(-Beta_1*(x-Beta_2))))\n",
    "     return y"
   ]
  },
  {
   "cell_type": "markdown",
   "metadata": {},
   "source": [
    "The function **curve_fit** from scipy will be used to get the parameters alpha_1, alpha_2, beta_1, beta_2.  \n",
    "Normalizing the independent and response variables and getting the parameters:"
   ]
  },
  {
   "cell_type": "code",
   "execution_count": 32,
   "metadata": {},
   "outputs": [
    {
     "name": "stdout",
     "output_type": "stream",
     "text": [
      "alpha_1 = 1.615791,alpha_2 = 1.315918,  beta_1 = 6.072699, beta_2 = -0.142173\n"
     ]
    }
   ],
   "source": [
    "#Normalizing:\n",
    "X = df3['3PA']/ max(df3['3PA'])\n",
    "Y = df3['REB']/ max(df3['REB'])\n",
    "#Curve fitting:\n",
    "from scipy.optimize import curve_fit\n",
    "popt, pcov = curve_fit(sigmoid, X, Y)\n",
    "#print the final parameters\n",
    "print(\"alpha_1 = %f,alpha_2 = %f,  beta_1 = %f, beta_2 = %f\" % (popt[0], popt[1],popt[2],popt[3]))"
   ]
  },
  {
   "cell_type": "markdown",
   "metadata": {},
   "source": [
    "The parameters can then be used to plot the new curve(blue) alongside the old (red):"
   ]
  },
  {
   "cell_type": "code",
   "execution_count": 33,
   "metadata": {},
   "outputs": [
    {
     "data": {
      "text/plain": [
       "[<matplotlib.lines.Line2D at 0x18956e67748>]"
      ]
     },
     "execution_count": 33,
     "metadata": {},
     "output_type": "execute_result"
    },
    {
     "data": {
      "image/png": "[encoded data removed]",
      "text/plain": [
       "<Figure size 432x288 with 1 Axes>"
      ]
     },
     "metadata": {
      "needs_background": "light"
     },
     "output_type": "display_data"
    }
   ],
   "source": [
    "y_new = sigmoid(X,popt[0], popt[1],popt[2],popt[3])\n",
    "plt.plot(df3['3PA'],df3['REB'], 'ro', label='data')\n",
    "#y_new must be multiplied against max(df3['REB']) to get the proper scale from the normalization:\n",
    "plt.plot( df3['3PA'],y_new*max(df3['REB']), 'bo')"
   ]
  },
  {
   "cell_type": "markdown",
   "metadata": {},
   "source": [
    "The new curve fits the plot better than the linear model of 3PA. To linearize 3PA, the new curve of 3PA will be plotted against total rebounds:"
   ]
  },
  {
   "cell_type": "code",
   "execution_count": 34,
   "metadata": {},
   "outputs": [
    {
     "name": "stdout",
     "output_type": "stream",
     "text": [
      "Correlation Coefficient is -0.6229229121583919\n",
      "P-value is 2.314593495789708e-44\n"
     ]
    }
   ],
   "source": [
    "#The linearized 3PA is therefore only \"- y_new*max(df3['REB'])\". \n",
    "#The negative sign is to re-introduce the negative relationship which was taken from curve-fitting.\n",
    "linear_3PA = - y_new*max(df3['REB'])\n",
    "#Correlation of linearized 3PA to REB:\n",
    "corr, p = stats.pearsonr(linear_3PA,df3['REB'])\n",
    "print('Correlation Coefficient is', corr)\n",
    "print('P-value is', p)"
   ]
  },
  {
   "cell_type": "code",
   "execution_count": 35,
   "metadata": {},
   "outputs": [
    {
     "data": {
      "text/plain": [
       "<matplotlib.axes._subplots.AxesSubplot at 0x18956e97ba8>"
      ]
     },
     "execution_count": 35,
     "metadata": {},
     "output_type": "execute_result"
    },
    {
     "data": {
      "image/png": "[encoded data removed]",
      "text/plain": [
       "<Figure size 432x288 with 1 Axes>"
      ]
     },
     "metadata": {
      "needs_background": "light"
     },
     "output_type": "display_data"
    }
   ],
   "source": [
    "#scatter plot of  linearized 3PA vs rebounds\n",
    "sns.regplot(x = linear_3PA, y = df3['REB'])"
   ]
  },
  {
   "cell_type": "code",
   "execution_count": 36,
   "metadata": {},
   "outputs": [
    {
     "data": {
      "text/plain": [
       "<matplotlib.axes._subplots.AxesSubplot at 0x18956e90e80>"
      ]
     },
     "execution_count": 36,
     "metadata": {},
     "output_type": "execute_result"
    },
    {
     "data": {
      "image/png": "[encoded data removed]",
      "text/plain": [
       "<Figure size 432x288 with 1 Axes>"
      ]
     },
     "metadata": {
      "needs_background": "light"
     },
     "output_type": "display_data"
    }
   ],
   "source": [
    "#residual plot of linearized3PA vs rebounds\n",
    "sns.residplot(x = linear_3PA, y = df3['REB'])"
   ]
  },
  {
   "cell_type": "markdown",
   "metadata": {},
   "source": [
    "The scatter plot of the 3PA now follows rebounds linearly, and its residual plot appears more randomized."
   ]
  },
  {
   "cell_type": "markdown",
   "metadata": {},
   "source": [
    "#### 3PA vs Rebounds\n",
    "The theory is that rebounds should be correlated with player athleticism. As they reach their athletic peak in age, their rebounds should increase. After their peak, their rebounds should decline with age.\n",
    "  \n",
    "Correlation between player age and rebounds:"
   ]
  },
  {
   "cell_type": "code",
   "execution_count": 37,
   "metadata": {},
   "outputs": [
    {
     "name": "stdout",
     "output_type": "stream",
     "text": [
      "Correlation Coefficient is 0.01218585679062407\n",
      "P-value is 0.8080337163947775\n"
     ]
    }
   ],
   "source": [
    "corr, p = stats.pearsonr(df3['AGE'],df3['REB'])\n",
    "print('Correlation Coefficient is', corr)\n",
    "print('P-value is', p)"
   ]
  },
  {
   "cell_type": "code",
   "execution_count": 38,
   "metadata": {},
   "outputs": [
    {
     "data": {
      "text/plain": [
       "<matplotlib.axes._subplots.AxesSubplot at 0x18956f5ff28>"
      ]
     },
     "execution_count": 38,
     "metadata": {},
     "output_type": "execute_result"
    },
    {
     "data": {
      "image/png": "[encoded data removed]",
      "text/plain": [
       "<Figure size 432x288 with 1 Axes>"
      ]
     },
     "metadata": {
      "needs_background": "light"
     },
     "output_type": "display_data"
    }
   ],
   "source": [
    "#scatter plot of age vs rebounds\n",
    "sns.regplot(x = df3['AGE'], y = df3['REB'])"
   ]
  },
  {
   "cell_type": "code",
   "execution_count": 39,
   "metadata": {},
   "outputs": [
    {
     "data": {
      "text/plain": [
       "<matplotlib.axes._subplots.AxesSubplot at 0x18956fdc9b0>"
      ]
     },
     "execution_count": 39,
     "metadata": {},
     "output_type": "execute_result"
    },
    {
     "data": {
      "image/png": "[encoded data removed]",
      "text/plain": [
       "<Figure size 432x288 with 1 Axes>"
      ]
     },
     "metadata": {
      "needs_background": "light"
     },
     "output_type": "display_data"
    }
   ],
   "source": [
    "#residual plot of age vs rebounds\n",
    "sns.residplot(x = df3['AGE'], y = df3['REB'])"
   ]
  },
  {
   "cell_type": "markdown",
   "metadata": {},
   "source": [
    "There isnt much of a correlation, but the scatter plot makes it look like there is a trend. The rebounds should increase towards the mid-20's and decrease in the 30's following athletic peak. The data seems to follow this to some extent. However, most of the data does not seem to follow this so curve fitting will be made."
   ]
  },
  {
   "cell_type": "markdown",
   "metadata": {},
   "source": [
    "#### Curve fitting and linearization of AGE\n",
    "One good approximation for the trend is a quadratic function:\n",
    "\n",
    "$$ \\hat{Y} = \\alpha X^2 + \\beta X + \\gamma $$\n",
    "\n"
   ]
  },
  {
   "cell_type": "code",
   "execution_count": 40,
   "metadata": {},
   "outputs": [],
   "source": [
    "#function for the quadratic\n",
    "def quad(x, alpha, beta, gamma):\n",
    "     y2 = alpha*x**2 + beta*x + gamma\n",
    "     return y2"
   ]
  },
  {
   "cell_type": "markdown",
   "metadata": {},
   "source": [
    "The function **curve_fit** from scipy will be used to get the parameters alpha, beta, and gamma. \n",
    "Normalizing the independent and response variables and getting the parameters:"
   ]
  },
  {
   "cell_type": "code",
   "execution_count": 41,
   "metadata": {},
   "outputs": [
    {
     "name": "stdout",
     "output_type": "stream",
     "text": [
      "alpha = -0.850727,beta = 1.214346,  gamma = -0.024622\n"
     ]
    }
   ],
   "source": [
    "#Normalizing:\n",
    "X2 = df3['AGE'] / max(df3['AGE'])\n",
    "Y2 = df3['REB'] / max(df3['REB'])\n",
    "#Curve fitting:\n",
    "popt2, pcov = curve_fit(quad, X2, Y2)\n",
    "#print the final parameters\n",
    "print(\"alpha = %f,beta = %f,  gamma = %f\" % (popt2[0], popt2[1],popt2[2]))"
   ]
  },
  {
   "cell_type": "markdown",
   "metadata": {},
   "source": [
    "The parameters can then be used to plot the new curve(blue) alongside the old (red):"
   ]
  },
  {
   "cell_type": "code",
   "execution_count": 42,
   "metadata": {},
   "outputs": [
    {
     "data": {
      "text/plain": [
       "[<matplotlib.lines.Line2D at 0x189570823c8>]"
      ]
     },
     "execution_count": 42,
     "metadata": {},
     "output_type": "execute_result"
    },
    {
     "data": {
      "image/png": "[encoded data removed]",
      "text/plain": [
       "<Figure size 432x288 with 1 Axes>"
      ]
     },
     "metadata": {
      "needs_background": "light"
     },
     "output_type": "display_data"
    }
   ],
   "source": [
    "y_new2 = quad(X2,popt2[0], popt2[1],popt2[2])\n",
    "plt.plot(df3['AGE'],df3['REB'], 'ro')\n",
    "#y_new must be multiplied against max(df3['REB']) to get the proper scale from the normalization:\n",
    "plt.plot( df3['AGE'],y_new2*max(df3['REB']), 'bo')"
   ]
  },
  {
   "cell_type": "markdown",
   "metadata": {},
   "source": [
    "The new curve fits the plot better than the linear model of AGE. To linearize AGE, the new curve of AGE will be plotted against total rebounds:"
   ]
  },
  {
   "cell_type": "code",
   "execution_count": 43,
   "metadata": {},
   "outputs": [
    {
     "name": "stdout",
     "output_type": "stream",
     "text": [
      "Correlation Coefficient is 0.06123048249442065\n",
      "P-value is 0.22173635900790326\n"
     ]
    }
   ],
   "source": [
    "#The linearized AGE is therefore only \"y_new2*max(df3['REB'])\". \n",
    "linear_AGE = y_new2*max(df3['REB'])\n",
    "#Correlation of linearized AGE to REB:\n",
    "corr, p = stats.pearsonr(linear_AGE,df3['REB'])\n",
    "print('Correlation Coefficient is', corr)\n",
    "print('P-value is', p)"
   ]
  },
  {
   "cell_type": "code",
   "execution_count": 44,
   "metadata": {},
   "outputs": [
    {
     "data": {
      "text/plain": [
       "<matplotlib.axes._subplots.AxesSubplot at 0x18955bb1a90>"
      ]
     },
     "execution_count": 44,
     "metadata": {},
     "output_type": "execute_result"
    },
    {
     "data": {
      "image/png": "[encoded data removed]",
      "text/plain": [
       "<Figure size 432x288 with 1 Axes>"
      ]
     },
     "metadata": {
      "needs_background": "light"
     },
     "output_type": "display_data"
    }
   ],
   "source": [
    "#scatter plot of  linearized AGE vs rebounds\n",
    "sns.regplot(x = linear_AGE, y = df3['REB'])"
   ]
  },
  {
   "cell_type": "code",
   "execution_count": 45,
   "metadata": {},
   "outputs": [
    {
     "data": {
      "text/plain": [
       "<matplotlib.axes._subplots.AxesSubplot at 0x1895711f208>"
      ]
     },
     "execution_count": 45,
     "metadata": {},
     "output_type": "execute_result"
    },
    {
     "data": {
      "image/png": "[encoded data removed]",
      "text/plain": [
       "<Figure size 432x288 with 1 Axes>"
      ]
     },
     "metadata": {
      "needs_background": "light"
     },
     "output_type": "display_data"
    }
   ],
   "source": [
    "#residual plot of  linearized AGE vs rebounds\n",
    "sns.residplot(x = linear_AGE, y = df3['REB'])"
   ]
  },
  {
   "cell_type": "markdown",
   "metadata": {},
   "source": [
    "The residuals still do not look randomized even after curve-fitting. Also, since the correlation is really low with a greater than 0.1 P-value(low confidence), **age ideally should not be considered for Regression**. However, for this project, it will be included since the logic is sound and a larger data set will definitely increase the P-value,"
   ]
  },
  {
   "cell_type": "markdown",
   "metadata": {},
   "source": [
    "#### Player position vs Rebounds"
   ]
  },
  {
   "cell_type": "markdown",
   "metadata": {},
   "source": [
    "Player position can also be used as an explanatory variable, since traditional roles like forwards and centers will definitely get more rebounds. However, the NBA has become more \"positionless\" over the years and modern bigs can now play as guards and shoot 3-pointers. Also, height (dictates traditiona defensive role) and 3PA (dictates offensive role) have already been accounted for, so this part is already accounted for. The correlation between Player position and rebounds, height, and 3PA are shown below."
   ]
  },
  {
   "cell_type": "code",
   "execution_count": 46,
   "metadata": {},
   "outputs": [
    {
     "data": {
      "text/plain": [
       "<matplotlib.axes._subplots.AxesSubplot at 0x18957182fd0>"
      ]
     },
     "execution_count": 46,
     "metadata": {},
     "output_type": "execute_result"
    },
    {
     "data": {
      "image/png": "[encoded data removed]",
      "text/plain": [
       "<Figure size 432x288 with 1 Axes>"
      ]
     },
     "metadata": {
      "needs_background": "light"
     },
     "output_type": "display_data"
    }
   ],
   "source": [
    "#correlation between position and rebounds\n",
    "sns.boxplot(x=df3['Position'], y=df3['REB'])"
   ]
  },
  {
   "cell_type": "markdown",
   "metadata": {},
   "source": [
    "#### Player position vs Height"
   ]
  },
  {
   "cell_type": "code",
   "execution_count": 47,
   "metadata": {},
   "outputs": [
    {
     "data": {
      "text/plain": [
       "<matplotlib.axes._subplots.AxesSubplot at 0x18957261940>"
      ]
     },
     "execution_count": 47,
     "metadata": {},
     "output_type": "execute_result"
    },
    {
     "data": {
      "image/png": "[encoded data removed]",
      "text/plain": [
       "<Figure size 432x288 with 1 Axes>"
      ]
     },
     "metadata": {
      "needs_background": "light"
     },
     "output_type": "display_data"
    }
   ],
   "source": [
    "#correlation between position and height\n",
    "sns.boxplot(x=df3['Position'], y=df3['Height'])"
   ]
  },
  {
   "cell_type": "markdown",
   "metadata": {},
   "source": [
    "It is clear that player positions are related to height, with Centers (C) being the tallest and Guards (G) being the shortest. We can also show that shorter players (guards and forwards) will tend to shoot more 3's, and that centers will tend to shoot near the ring to make use of their height."
   ]
  },
  {
   "cell_type": "markdown",
   "metadata": {},
   "source": [
    "#### Player position vs 3PA"
   ]
  },
  {
   "cell_type": "code",
   "execution_count": 48,
   "metadata": {},
   "outputs": [
    {
     "data": {
      "text/plain": [
       "<matplotlib.axes._subplots.AxesSubplot at 0x189573214a8>"
      ]
     },
     "execution_count": 48,
     "metadata": {},
     "output_type": "execute_result"
    },
    {
     "data": {
      "image/png": "[encoded data removed]",
      "text/plain": [
       "<Figure size 432x288 with 1 Axes>"
      ]
     },
     "metadata": {
      "needs_background": "light"
     },
     "output_type": "display_data"
    }
   ],
   "source": [
    "#correlation between position and 3PA\n",
    "sns.boxplot(x=df3['Position'], y=df3['3PA'])"
   ]
  },
  {
   "cell_type": "markdown",
   "metadata": {},
   "source": [
    "## Regression  <a name=\"ref4\"></a>\n",
    "\n",
    "For the model, only Height, Weight, Age, and 3 points attempted will be considered as explanatory variables."
   ]
  },
  {
   "cell_type": "code",
   "execution_count": 49,
   "metadata": {},
   "outputs": [
    {
     "name": "stderr",
     "output_type": "stream",
     "text": [
      "C:\\Users\\pc user\\Anaconda3\\lib\\site-packages\\ipykernel_launcher.py:4: SettingWithCopyWarning: \n",
      "A value is trying to be set on a copy of a slice from a DataFrame.\n",
      "Try using .loc[row_indexer,col_indexer] = value instead\n",
      "\n",
      "See the caveats in the documentation: http://pandas.pydata.org/pandas-docs/stable/indexing.html#indexing-view-versus-copy\n",
      "  after removing the cwd from sys.path.\n",
      "C:\\Users\\pc user\\Anaconda3\\lib\\site-packages\\ipykernel_launcher.py:6: SettingWithCopyWarning: \n",
      "A value is trying to be set on a copy of a slice from a DataFrame.\n",
      "Try using .loc[row_indexer,col_indexer] = value instead\n",
      "\n",
      "See the caveats in the documentation: http://pandas.pydata.org/pandas-docs/stable/indexing.html#indexing-view-versus-copy\n",
      "  \n"
     ]
    },
    {
     "data": {
      "text/html": [
       "<div>\n",
       "<style scoped>\n",
       "    .dataframe tbody tr th:only-of-type {\n",
       "        vertical-align: middle;\n",
       "    }\n",
       "\n",
       "    .dataframe tbody tr th {\n",
       "        vertical-align: top;\n",
       "    }\n",
       "\n",
       "    .dataframe thead th {\n",
       "        text-align: right;\n",
       "    }\n",
       "</style>\n",
       "<table border=\"1\" class=\"dataframe\">\n",
       "  <thead>\n",
       "    <tr style=\"text-align: right;\">\n",
       "      <th></th>\n",
       "      <th>Player</th>\n",
       "      <th>Team</th>\n",
       "      <th>3PA</th>\n",
       "      <th>AGE</th>\n",
       "      <th>Height</th>\n",
       "      <th>Weight</th>\n",
       "      <th>REB</th>\n",
       "    </tr>\n",
       "  </thead>\n",
       "  <tbody>\n",
       "    <tr>\n",
       "      <th>0</th>\n",
       "      <td>StevenAdams</td>\n",
       "      <td>NOP</td>\n",
       "      <td>-15.169612</td>\n",
       "      <td>9.072549</td>\n",
       "      <td>83.0</td>\n",
       "      <td>265.0</td>\n",
       "      <td>16.6</td>\n",
       "    </tr>\n",
       "    <tr>\n",
       "      <th>1</th>\n",
       "      <td>BamAdebayo</td>\n",
       "      <td>MIA</td>\n",
       "      <td>-14.735286</td>\n",
       "      <td>8.689910</td>\n",
       "      <td>81.0</td>\n",
       "      <td>255.0</td>\n",
       "      <td>14.8</td>\n",
       "    </tr>\n",
       "    <tr>\n",
       "      <th>2</th>\n",
       "      <td>LaMarcusAldridge</td>\n",
       "      <td>SAS</td>\n",
       "      <td>-9.047593</td>\n",
       "      <td>8.640433</td>\n",
       "      <td>83.0</td>\n",
       "      <td>250.0</td>\n",
       "      <td>10.8</td>\n",
       "    </tr>\n",
       "    <tr>\n",
       "      <th>4</th>\n",
       "      <td>NickeilAlexander-Walker</td>\n",
       "      <td>NOP</td>\n",
       "      <td>-6.960194</td>\n",
       "      <td>8.531886</td>\n",
       "      <td>77.0</td>\n",
       "      <td>205.0</td>\n",
       "      <td>6.5</td>\n",
       "    </tr>\n",
       "    <tr>\n",
       "      <th>5</th>\n",
       "      <td>GraysonAllen</td>\n",
       "      <td>MEM</td>\n",
       "      <td>-7.156602</td>\n",
       "      <td>8.931121</td>\n",
       "      <td>76.0</td>\n",
       "      <td>198.0</td>\n",
       "      <td>5.4</td>\n",
       "    </tr>\n",
       "  </tbody>\n",
       "</table>\n",
       "</div>"
      ],
      "text/plain": [
       "                    Player Team        3PA       AGE  Height  Weight   REB\n",
       "0              StevenAdams  NOP -15.169612  9.072549    83.0   265.0  16.6\n",
       "1               BamAdebayo  MIA -14.735286  8.689910    81.0   255.0  14.8\n",
       "2         LaMarcusAldridge  SAS  -9.047593  8.640433    83.0   250.0  10.8\n",
       "4  NickeilAlexander-Walker  NOP  -6.960194  8.531886    77.0   205.0   6.5\n",
       "5             GraysonAllen  MEM  -7.156602  8.931121    76.0   198.0   5.4"
      ]
     },
     "execution_count": 49,
     "metadata": {},
     "output_type": "execute_result"
    }
   ],
   "source": [
    "#Dataframe for variables\n",
    "data = df3[['Player','Team','3PA','AGE','Height','Weight','REB']]\n",
    "#replacing 3PA with curve fitted 3PA\n",
    "data['3PA'] = linear_3PA \n",
    "#replacing AGE with curve fitted 3PA\n",
    "data['AGE'] = linear_AGE \n",
    "data.head()"
   ]
  },
  {
   "cell_type": "code",
   "execution_count": 50,
   "metadata": {},
   "outputs": [
    {
     "data": {
      "text/plain": [
       "Player    0\n",
       "Team      0\n",
       "3PA       0\n",
       "AGE       0\n",
       "Height    0\n",
       "Weight    0\n",
       "REB       0\n",
       "dtype: int64"
      ]
     },
     "execution_count": 50,
     "metadata": {},
     "output_type": "execute_result"
    }
   ],
   "source": [
    "#checking for null values\n",
    "data.isnull().sum()"
   ]
  },
  {
   "cell_type": "markdown",
   "metadata": {},
   "source": [
    "In order to test for out of sample accuracy, the data will be split into training and testing sets:"
   ]
  },
  {
   "cell_type": "code",
   "execution_count": 51,
   "metadata": {},
   "outputs": [],
   "source": [
    "from sklearn.model_selection import train_test_split\n",
    "X_train, X_test, y_train, y_test = train_test_split(data[['3PA','AGE','Height','Weight']],data['REB'], test_size = 0.3, random_state = 1)"
   ]
  },
  {
   "cell_type": "markdown",
   "metadata": {},
   "source": [
    "Normalizing so that each explanatory variable has equal dimensional size:"
   ]
  },
  {
   "cell_type": "code",
   "execution_count": 52,
   "metadata": {},
   "outputs": [],
   "source": [
    "from sklearn import preprocessing\n",
    "#normalizing explanatory variables in training set:\n",
    "X_train= preprocessing.StandardScaler().fit(X_train).transform(X_train)\n",
    "#normalizing explanatory variables in testing set:\n",
    "X_test= preprocessing.StandardScaler().fit(X_test).transform(X_test)\n",
    "#normalizing explanatory variables as a whole:\n",
    "X_whole= preprocessing.StandardScaler().fit(data[['3PA','AGE','Height','Weight']]).transform(data[['3PA','AGE','Height','Weight']])"
   ]
  },
  {
   "cell_type": "markdown",
   "metadata": {},
   "source": [
    "Since the 3PA and AGE were linearized, linear regression can be used.  \n",
    "Fitting the linear regression model:"
   ]
  },
  {
   "cell_type": "code",
   "execution_count": 53,
   "metadata": {},
   "outputs": [
    {
     "name": "stdout",
     "output_type": "stream",
     "text": [
      "Coefficients: 3PA = -1.308000, AGE = 0.316701,  Height = 1.123727,  Weight = 1.290512\n"
     ]
    }
   ],
   "source": [
    "from sklearn import linear_model\n",
    "lm = linear_model.LinearRegression()\n",
    "lm.fit (X_train, y_train)\n",
    "# The coefficients\n",
    "print (\"Coefficients: 3PA = %f, AGE = %f,  Height = %f,  Weight = %f\" % (lm.coef_[0], lm.coef_[1],lm.coef_[2],lm.coef_[3]) )"
   ]
  },
  {
   "cell_type": "markdown",
   "metadata": {},
   "source": [
    "Surpisingly, 3PA has a higher coefficient than both height and weight. But then again, **weight and height are multicolinear**, so the overall size of the player will still be a bigger factor than 3PA. **If the model is fitted without weight, then height would have a higher coefficient than 3PA. If the model is fitted without height, then weight will have a higher coefficient than 3PA**. "
   ]
  },
  {
   "cell_type": "code",
   "execution_count": 54,
   "metadata": {},
   "outputs": [
    {
     "data": {
      "text/plain": [
       "0.6830774410899592"
      ]
     },
     "execution_count": 54,
     "metadata": {},
     "output_type": "execute_result"
    }
   ],
   "source": [
    "#predicted rebounds using test set:\n",
    "y_hat = lm.predict(X_test)\n",
    "lm.score(X_test,y_test)"
   ]
  },
  {
   "cell_type": "code",
   "execution_count": 55,
   "metadata": {},
   "outputs": [
    {
     "name": "stdout",
     "output_type": "stream",
     "text": [
      "Mean absolute error: 1.83\n",
      "Residual sum of squares (MSE): 5.56\n",
      "R2-score: 0.68\n"
     ]
    }
   ],
   "source": [
    "#additional metrics\n",
    "from sklearn.metrics import r2_score\n",
    "print(\"Mean absolute error: %.2f\" % np.mean(np.absolute(y_hat - y_test)))\n",
    "print(\"Residual sum of squares (MSE): %.2f\" % np.mean((y_hat - y_test) ** 2))\n",
    "from sklearn.metrics import r2_score\n",
    "print(\"R2-score: %.2f\" % r2_score(y_test,y_hat ) )"
   ]
  },
  {
   "cell_type": "markdown",
   "metadata": {},
   "source": [
    "The MAE and MSE are not large, and the R2-score is respectable. A more comprehensive way to test the data is by using **cross_val_score**, which is by splitting the data into multiple different training and testing sets. This can check if the R-squared value was high by chance. "
   ]
  },
  {
   "cell_type": "code",
   "execution_count": 56,
   "metadata": {},
   "outputs": [],
   "source": [
    "from sklearn.model_selection import cross_val_score"
   ]
  },
  {
   "cell_type": "markdown",
   "metadata": {},
   "source": [
    "The cross validation score is taken by splitting data into 10 folds, and then testing each fold with remaining data as training sets."
   ]
  },
  {
   "cell_type": "code",
   "execution_count": 57,
   "metadata": {},
   "outputs": [
    {
     "name": "stdout",
     "output_type": "stream",
     "text": [
      "Cross validation scores are: [0.58854863 0.65708491 0.66256149 0.51524812 0.6543369  0.54379945\n",
      " 0.75611076 0.62598361 0.71230222 0.67674909]\n",
      "Cross validation score mean is: 0.6392725174765566\n"
     ]
    }
   ],
   "source": [
    "Rcross = cross_val_score(lm, X_whole, data['REB'], cv=10)\n",
    "print(\"Cross validation scores are:\",Rcross)\n",
    "print(\"Cross validation score mean is:\",np.mean(Rcross))"
   ]
  },
  {
   "cell_type": "markdown",
   "metadata": {},
   "source": [
    "Since the R-squared value is okay for out of sample data, the model as a whole can then be fitted and evaluated:"
   ]
  },
  {
   "cell_type": "code",
   "execution_count": 58,
   "metadata": {},
   "outputs": [
    {
     "data": {
      "text/plain": [
       "LinearRegression(copy_X=True, fit_intercept=True, n_jobs=None,\n",
       "         normalize=False)"
      ]
     },
     "execution_count": 58,
     "metadata": {},
     "output_type": "execute_result"
    }
   ],
   "source": [
    "#fitting the whole data set into the linear model:\n",
    "lm.fit(X_whole,data['REB'])"
   ]
  },
  {
   "cell_type": "code",
   "execution_count": 59,
   "metadata": {},
   "outputs": [
    {
     "name": "stdout",
     "output_type": "stream",
     "text": [
      "Coefficients: 3PA = -1.396101, AGE = 0.242237,  Height = 1.324310,  Weight = 1.132016\n"
     ]
    }
   ],
   "source": [
    "y_hat_all= lm.predict(X_whole)\n",
    "# The coefficients\n",
    "print (\"Coefficients: 3PA = %f, AGE = %f,  Height = %f,  Weight = %f\" % (lm.coef_[0], lm.coef_[1],lm.coef_[2],lm.coef_[3]) )"
   ]
  },
  {
   "cell_type": "code",
   "execution_count": 60,
   "metadata": {},
   "outputs": [
    {
     "name": "stdout",
     "output_type": "stream",
     "text": [
      "Mean absolute error: 1.76\n",
      "Residual sum of squares (MSE): 5.27\n",
      "R2-score: 0.66\n"
     ]
    }
   ],
   "source": [
    "print(\"Mean absolute error: %.2f\" % np.mean(np.absolute(y_hat_all - data['REB'])))\n",
    "print(\"Residual sum of squares (MSE): %.2f\" % np.mean((y_hat_all - data['REB']) ** 2))\n",
    "print(\"R2-score: %.2f\" % r2_score(data['REB'], y_hat_all))"
   ]
  },
  {
   "cell_type": "markdown",
   "metadata": {},
   "source": [
    "The data can then be used to asses the player performance by comparing the residuals. Since the residuals are only the difference between model performance and actual player performance, this can be thought of as the difference in baseline rebounding performance. This can be due to natural skill in rebounding, priority in rebounding, or other factors not considered."
   ]
  },
  {
   "cell_type": "code",
   "execution_count": 61,
   "metadata": {},
   "outputs": [
    {
     "name": "stderr",
     "output_type": "stream",
     "text": [
      "C:\\Users\\pc user\\Anaconda3\\lib\\site-packages\\ipykernel_launcher.py:1: SettingWithCopyWarning: \n",
      "A value is trying to be set on a copy of a slice from a DataFrame.\n",
      "Try using .loc[row_indexer,col_indexer] = value instead\n",
      "\n",
      "See the caveats in the documentation: http://pandas.pydata.org/pandas-docs/stable/indexing.html#indexing-view-versus-copy\n",
      "  \"\"\"Entry point for launching an IPython kernel.\n",
      "C:\\Users\\pc user\\Anaconda3\\lib\\site-packages\\ipykernel_launcher.py:2: SettingWithCopyWarning: \n",
      "A value is trying to be set on a copy of a slice from a DataFrame.\n",
      "Try using .loc[row_indexer,col_indexer] = value instead\n",
      "\n",
      "See the caveats in the documentation: http://pandas.pydata.org/pandas-docs/stable/indexing.html#indexing-view-versus-copy\n",
      "  \n"
     ]
    }
   ],
   "source": [
    "data['Predicted REB'] = y_hat_all\n",
    "data['Residual'] = ( data['REB']- y_hat_all)"
   ]
  },
  {
   "cell_type": "code",
   "execution_count": 62,
   "metadata": {},
   "outputs": [
    {
     "name": "stderr",
     "output_type": "stream",
     "text": [
      "C:\\Users\\pc user\\Anaconda3\\lib\\site-packages\\ipykernel_launcher.py:2: SettingWithCopyWarning: \n",
      "A value is trying to be set on a copy of a slice from a DataFrame.\n",
      "Try using .loc[row_indexer,col_indexer] = value instead\n",
      "\n",
      "See the caveats in the documentation: http://pandas.pydata.org/pandas-docs/stable/indexing.html#indexing-view-versus-copy\n",
      "  \n",
      "C:\\Users\\pc user\\Anaconda3\\lib\\site-packages\\ipykernel_launcher.py:3: SettingWithCopyWarning: \n",
      "A value is trying to be set on a copy of a slice from a DataFrame.\n",
      "Try using .loc[row_indexer,col_indexer] = value instead\n",
      "\n",
      "See the caveats in the documentation: http://pandas.pydata.org/pandas-docs/stable/indexing.html#indexing-view-versus-copy\n",
      "  This is separate from the ipykernel package so we can avoid doing imports until\n"
     ]
    }
   ],
   "source": [
    "#returning the old 3PA:\n",
    "data['3PA'] = df3['3PA']\n",
    "data['AGE'] = df3['AGE']"
   ]
  },
  {
   "cell_type": "markdown",
   "metadata": {},
   "source": [
    "The top 5 players rebounding more than the model are:"
   ]
  },
  {
   "cell_type": "code",
   "execution_count": 63,
   "metadata": {},
   "outputs": [
    {
     "data": {
      "text/html": [
       "<div>\n",
       "<style scoped>\n",
       "    .dataframe tbody tr th:only-of-type {\n",
       "        vertical-align: middle;\n",
       "    }\n",
       "\n",
       "    .dataframe tbody tr th {\n",
       "        vertical-align: top;\n",
       "    }\n",
       "\n",
       "    .dataframe thead th {\n",
       "        text-align: right;\n",
       "    }\n",
       "</style>\n",
       "<table border=\"1\" class=\"dataframe\">\n",
       "  <thead>\n",
       "    <tr style=\"text-align: right;\">\n",
       "      <th></th>\n",
       "      <th>Player</th>\n",
       "      <th>Team</th>\n",
       "      <th>3PA</th>\n",
       "      <th>AGE</th>\n",
       "      <th>Height</th>\n",
       "      <th>Weight</th>\n",
       "      <th>REB</th>\n",
       "      <th>Predicted REB</th>\n",
       "      <th>Residual</th>\n",
       "    </tr>\n",
       "  </thead>\n",
       "  <tbody>\n",
       "    <tr>\n",
       "      <th>215</th>\n",
       "      <td>AlizeJohnson</td>\n",
       "      <td>IND</td>\n",
       "      <td>3.1</td>\n",
       "      <td>24</td>\n",
       "      <td>79.0</td>\n",
       "      <td>212.0</td>\n",
       "      <td>18.5</td>\n",
       "      <td>9.597842</td>\n",
       "      <td>8.902158</td>\n",
       "    </tr>\n",
       "    <tr>\n",
       "      <th>10</th>\n",
       "      <td>GiannisAntetokounmpo</td>\n",
       "      <td>MIL</td>\n",
       "      <td>6.8</td>\n",
       "      <td>25</td>\n",
       "      <td>83.0</td>\n",
       "      <td>242.0</td>\n",
       "      <td>19.9</td>\n",
       "      <td>11.266984</td>\n",
       "      <td>8.633016</td>\n",
       "    </tr>\n",
       "    <tr>\n",
       "      <th>48</th>\n",
       "      <td>ChrisBoucher</td>\n",
       "      <td>TOR</td>\n",
       "      <td>6.7</td>\n",
       "      <td>27</td>\n",
       "      <td>81.0</td>\n",
       "      <td>200.0</td>\n",
       "      <td>15.8</td>\n",
       "      <td>8.602653</td>\n",
       "      <td>7.197347</td>\n",
       "    </tr>\n",
       "    <tr>\n",
       "      <th>119</th>\n",
       "      <td>AndreDrummond</td>\n",
       "      <td>CLE</td>\n",
       "      <td>0.9</td>\n",
       "      <td>26</td>\n",
       "      <td>82.0</td>\n",
       "      <td>279.0</td>\n",
       "      <td>22.3</td>\n",
       "      <td>15.977578</td>\n",
       "      <td>6.322422</td>\n",
       "    </tr>\n",
       "    <tr>\n",
       "      <th>321</th>\n",
       "      <td>KyleO'Quinn</td>\n",
       "      <td>PHI</td>\n",
       "      <td>4.1</td>\n",
       "      <td>30</td>\n",
       "      <td>81.0</td>\n",
       "      <td>250.0</td>\n",
       "      <td>17.7</td>\n",
       "      <td>11.754127</td>\n",
       "      <td>5.945873</td>\n",
       "    </tr>\n",
       "  </tbody>\n",
       "</table>\n",
       "</div>"
      ],
      "text/plain": [
       "                   Player Team  3PA  AGE  Height  Weight   REB  Predicted REB  \\\n",
       "215          AlizeJohnson  IND  3.1   24    79.0   212.0  18.5       9.597842   \n",
       "10   GiannisAntetokounmpo  MIL  6.8   25    83.0   242.0  19.9      11.266984   \n",
       "48           ChrisBoucher  TOR  6.7   27    81.0   200.0  15.8       8.602653   \n",
       "119         AndreDrummond  CLE  0.9   26    82.0   279.0  22.3      15.977578   \n",
       "321           KyleO'Quinn  PHI  4.1   30    81.0   250.0  17.7      11.754127   \n",
       "\n",
       "     Residual  \n",
       "215  8.902158  \n",
       "10   8.633016  \n",
       "48   7.197347  \n",
       "119  6.322422  \n",
       "321  5.945873  "
      ]
     },
     "execution_count": 63,
     "metadata": {},
     "output_type": "execute_result"
    }
   ],
   "source": [
    "data = data.sort_values(by = 'Residual', ascending = False)\n",
    "data.head(5)"
   ]
  },
  {
   "cell_type": "markdown",
   "metadata": {},
   "source": [
    "The top 5 players rebounding less than the model are:"
   ]
  },
  {
   "cell_type": "code",
   "execution_count": 64,
   "metadata": {},
   "outputs": [
    {
     "data": {
      "text/html": [
       "<div>\n",
       "<style scoped>\n",
       "    .dataframe tbody tr th:only-of-type {\n",
       "        vertical-align: middle;\n",
       "    }\n",
       "\n",
       "    .dataframe tbody tr th {\n",
       "        vertical-align: top;\n",
       "    }\n",
       "\n",
       "    .dataframe thead th {\n",
       "        text-align: right;\n",
       "    }\n",
       "</style>\n",
       "<table border=\"1\" class=\"dataframe\">\n",
       "  <thead>\n",
       "    <tr style=\"text-align: right;\">\n",
       "      <th></th>\n",
       "      <th>Player</th>\n",
       "      <th>Team</th>\n",
       "      <th>3PA</th>\n",
       "      <th>AGE</th>\n",
       "      <th>Height</th>\n",
       "      <th>Weight</th>\n",
       "      <th>REB</th>\n",
       "      <th>Predicted REB</th>\n",
       "      <th>Residual</th>\n",
       "    </tr>\n",
       "  </thead>\n",
       "  <tbody>\n",
       "    <tr>\n",
       "      <th>256</th>\n",
       "      <td>RobinLopez</td>\n",
       "      <td>WAS</td>\n",
       "      <td>4.9</td>\n",
       "      <td>32</td>\n",
       "      <td>84.0</td>\n",
       "      <td>281.0</td>\n",
       "      <td>7.6</td>\n",
       "      <td>13.914665</td>\n",
       "      <td>-6.314665</td>\n",
       "    </tr>\n",
       "    <tr>\n",
       "      <th>141</th>\n",
       "      <td>DanielGafford</td>\n",
       "      <td>CHI</td>\n",
       "      <td>0.0</td>\n",
       "      <td>21</td>\n",
       "      <td>82.0</td>\n",
       "      <td>234.0</td>\n",
       "      <td>8.2</td>\n",
       "      <td>14.380386</td>\n",
       "      <td>-6.180386</td>\n",
       "    </tr>\n",
       "    <tr>\n",
       "      <th>255</th>\n",
       "      <td>BrookLopez</td>\n",
       "      <td>MIL</td>\n",
       "      <td>8.0</td>\n",
       "      <td>32</td>\n",
       "      <td>84.0</td>\n",
       "      <td>282.0</td>\n",
       "      <td>7.7</td>\n",
       "      <td>13.237449</td>\n",
       "      <td>-5.537449</td>\n",
       "    </tr>\n",
       "    <tr>\n",
       "      <th>235</th>\n",
       "      <td>LukeKornet</td>\n",
       "      <td>CHI</td>\n",
       "      <td>9.1</td>\n",
       "      <td>24</td>\n",
       "      <td>86.0</td>\n",
       "      <td>250.0</td>\n",
       "      <td>7.1</td>\n",
       "      <td>12.443149</td>\n",
       "      <td>-5.343149</td>\n",
       "    </tr>\n",
       "    <tr>\n",
       "      <th>398</th>\n",
       "      <td>EvanTurner</td>\n",
       "      <td>MIN</td>\n",
       "      <td>0.9</td>\n",
       "      <td>31</td>\n",
       "      <td>78.0</td>\n",
       "      <td>220.0</td>\n",
       "      <td>6.8</td>\n",
       "      <td>11.518970</td>\n",
       "      <td>-4.718970</td>\n",
       "    </tr>\n",
       "  </tbody>\n",
       "</table>\n",
       "</div>"
      ],
      "text/plain": [
       "            Player Team  3PA  AGE  Height  Weight  REB  Predicted REB  \\\n",
       "256     RobinLopez  WAS  4.9   32    84.0   281.0  7.6      13.914665   \n",
       "141  DanielGafford  CHI  0.0   21    82.0   234.0  8.2      14.380386   \n",
       "255     BrookLopez  MIL  8.0   32    84.0   282.0  7.7      13.237449   \n",
       "235     LukeKornet  CHI  9.1   24    86.0   250.0  7.1      12.443149   \n",
       "398     EvanTurner  MIN  0.9   31    78.0   220.0  6.8      11.518970   \n",
       "\n",
       "     Residual  \n",
       "256 -6.314665  \n",
       "141 -6.180386  \n",
       "255 -5.537449  \n",
       "235 -5.343149  \n",
       "398 -4.718970  "
      ]
     },
     "execution_count": 64,
     "metadata": {},
     "output_type": "execute_result"
    }
   ],
   "source": [
    "data = data.sort_values(by = 'Residual', ascending = True)\n",
    "data.head(5)"
   ]
  },
  {
   "cell_type": "markdown",
   "metadata": {},
   "source": [
    " ## Conclusion <a name=\"ref1\"></a>"
   ]
  },
  {
   "cell_type": "markdown",
   "metadata": {},
   "source": [
    "Based on the exploratory analysis, Height, Weight, 3-points attempted, and player role were correlated with the number of Rebounds. The number of attempted 3-pointers (negatively) affect the offensive rebounds more than defensive rebounds. The P-value of Age was too low and therefore had less certainty in it being a factor, although it is reasonable to conclude that with more data the P-value should increase. In the regression model, player role was not included due to it already being highly correlated with the other variables (except age). Height and Weight, although correlated, were both included since they could influence rebounds differently.\n",
    "  \n",
    "It was found that players that perform better than the model have other factors not taken into account. Giannis Antetokounmpo performed better than the model despite attempting a good number of 3-pointers and weighing relatively light. This could be due to his elite athleticism and large wingspan. For players that are performing worse than the model, it was mainly due to playing with an elite rebounder (Brook Lopez with Giannis in MIL, Robin Lopez with Bryant in WAS). Other players that have high residuals were players with low playing time and inflated per 100 stats. Some recommendations for this model is to remove players that average low minutes per game, account for rebounding team-mates, and add additional metrics like wingspan."
   ]
  }
 ],
 "metadata": {
  "kernelspec": {
   "display_name": "Python 3",
   "language": "python",
   "name": "python3"
  },
  "language_info": {
   "codemirror_mode": {
    "name": "ipython",
    "version": 3
   },
   "file_extension": ".py",
   "mimetype": "text/x-python",
   "name": "python",
   "nbconvert_exporter": "python",
   "pygments_lexer": "ipython3",
   "version": "3.7.1"
  }
 },
 "nbformat": 4,
 "nbformat_minor": 2
}
